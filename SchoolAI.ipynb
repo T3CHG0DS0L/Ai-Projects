{
  "cells": [
    {
      "cell_type": "code",
      "execution_count": null,
      "metadata": {
        "id": "Wg5b_5BsAJBR"
      },
      "outputs": [],
      "source": [
        "from google.colab import drive\n",
        "drive.mount('/content/drive')"
      ]
    },
    {
      "cell_type": "markdown",
      "metadata": {
        "id": "ZYzX66IE_-EI"
      },
      "source": []
    },
    {
      "cell_type": "code",
      "execution_count": null,
      "metadata": {
        "id": "MfO1A6Li_-zb"
      },
      "outputs": [],
      "source": [
        "import docx2txt\n",
        "ClassCourseA = docx2txt.process(\"/content/file.docx\")"
      ]
    },
    {
      "cell_type": "code",
      "execution_count": null,
      "metadata": {
        "id": "9lxKM8aGDEBA"
      },
      "outputs": [],
      "source": [
        "import pandas as pd\n",
        "# Read an Excel file into a DataFrame\n",
        "gradesFile = pd.read_excel('my_excel_file.xlsx')\n",
        "\n",
        "# Print the DataFrame\n",
        "print(df)"
      ]
    },
    {
      "cell_type": "code",
      "execution_count": null,
      "metadata": {
        "colab": {
          "base_uri": "https://localhost:8080/"
        },
        "id": "NGFOm1XgBcsJ",
        "outputId": "023b5515-acd3-4dfe-dae0-55ad268c1575"
      },
      "outputs": [
        {
          "name": "stdout",
          "output_type": "stream",
          "text": [
            "hello\n"
          ]
        }
      ],
      "source": [
        "print(ClassCourseA)\n",
        "print(gradesFile)"
      ]
    },
    {
      "cell_type": "code",
      "execution_count": null,
      "metadata": {
        "id": "1ToAYgX7B-73"
      },
      "outputs": [],
      "source": [
        "# prompt: import chatgpt library\n",
        "\n",
        "!pip install openai\n",
        "import openai\n",
        "\n",
        "# Replace with your OpenAI API key\n",
        "openai.api_key = \"[your OpenAI API key]\"\n",
        "\n",
        "# Use the Chat Completion API to generate text\n",
        "response = openai.ChatCompletion.create(\n",
        "  model=\"gpt-3.5-turbo\",\n",
        "  messages=[\n",
        "    {\n",
        "      \"role\": \"system\",\n",
        "      \"content\": \"You are a helpful assistant.\"\n",
        "    },\n",
        "    {\n",
        "      \"role\": \"user\",\n",
        "      \"content\": \"What is the meaning of life?\"\n",
        "    }\n",
        "  ]\n",
        ")\n",
        "\n",
        "print(response[\"choices\"][0][\"message\"][\"content\"])"
      ]
    }
  ],
  "metadata": {
    "colab": {
      "provenance": []
    },
    "kernelspec": {
      "display_name": "Python 3",
      "name": "python3"
    },
    "language_info": {
      "name": "python"
    }
  },
  "nbformat": 4,
  "nbformat_minor": 0
}
